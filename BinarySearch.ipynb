{
  "nbformat": 4,
  "nbformat_minor": 0,
  "metadata": {
    "colab": {
      "name": "BinarySearch.ipynb",
      "version": "0.3.2",
      "provenance": [],
      "include_colab_link": true
    },
    "kernelspec": {
      "name": "python3",
      "display_name": "Python 3"
    }
  },
  "cells": [
    {
      "cell_type": "markdown",
      "metadata": {
        "id": "view-in-github",
        "colab_type": "text"
      },
      "source": [
        "<a href=\"https://colab.research.google.com/github/shka88/gitTest/blob/master/BinarySearch.ipynb\" target=\"_parent\"><img src=\"https://colab.research.google.com/assets/colab-badge.svg\" alt=\"Open In Colab\"/></a>"
      ]
    },
    {
      "cell_type": "code",
      "metadata": {
        "id": "Upqtz85_mrc8",
        "colab_type": "code",
        "outputId": "2cb810a6-56bf-486e-8721-2aedfb8c2049",
        "colab": {
          "base_uri": "https://localhost:8080/",
          "height": 35
        }
      },
      "source": [
        "def find(L, target, start, end):\n",
        "  \n",
        "  if start>end:\n",
        "    return -1\n",
        "  \n",
        "  \n",
        "  mid = (start + end)//2\n",
        "\n",
        "  if L[mid] == target:\n",
        "    return mid\n",
        "    \n",
        "  if L[mid] > target:\n",
        "    return find(L, target, start, mid-1)\n",
        "    \n",
        "  else:\n",
        "    return find(L, target, mid+1, end)\n",
        "\n",
        "\n",
        "L = [ ]\n",
        "L.append(5)\n",
        "L.append(8)\n",
        "L.append(10)\n",
        "L.append(15)\n",
        "L.append(20)\n",
        "L.append(25)\n",
        "L.append(30)\n",
        "L.append(40)\n",
        "L.append(50)\n",
        "L.append(54)\n",
        "L.append(66)\n",
        "L.append(69)\n",
        "L.append(83)\n",
        "L.append(90)\n",
        "\n",
        "index = find(L, 67, 0, len(L)-1)\n",
        "print(index)\n"
      ],
      "execution_count": 0,
      "outputs": [
        {
          "output_type": "stream",
          "text": [
            "-1\n"
          ],
          "name": "stdout"
        }
      ]
    }
  ]
}